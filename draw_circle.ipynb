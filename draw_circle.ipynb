{
 "cells": [
  {
   "cell_type": "code",
   "execution_count": 1,
   "id": "319302dc-e3dd-4d4f-9f8f-e4583d6668cc",
   "metadata": {},
   "outputs": [],
   "source": [
    "import turtle\n",
    "WIDTH = 640\n",
    "HEIGHT = 360"
   ]
  },
  {
   "cell_type": "code",
   "execution_count": 2,
   "id": "774d4382-5a03-4ac4-81b6-a50e3d378d5e",
   "metadata": {},
   "outputs": [],
   "source": [
    "def setup_window():\n",
    "\n",
    "    # Set up the window\n",
    "    turtle.title('Circles in My Mind')\n",
    "    turtle.setup(WIDTH, HEIGHT, 0, 0) \n",
    "    turtle.colormode(255) # Indicates RGB numbers will be in the range 0 to 255\n",
    "    turtle.hideturtle()\n",
    "    # Batch drawing to the screen for faster rendering\n",
    "    turtle.tracer(2000) \n",
    "    # Speed up drawing process\n",
    "    turtle.speed(10)\n",
    "    turtle.penup()\n",
    "def draw_circle(x, y, radius, red=50, green=255, blue=10,width=7):\n",
    "            colour = (red, green, blue)\n",
    "    # Recursively drawn smaller circles\n",
    "            if radius > 50: \n",
    "            # Calculate colours and line width for smaller circles\n",
    "                if red < 216:\n",
    "                    red = red + 33\n",
    "                    green = green - 42\n",
    "                    blue = blue + 10\n",
    "                    width -= 1 \n",
    "            else:\n",
    "                red = 0\n",
    "                green = 255\n",
    "                # Calculate the radius for the smaller circles\n",
    "                new_radius = int(radius / 1.3) \n",
    "                # Drawn four circles\n",
    "                draw_circle(int(x + new_radius), y, new_radius, red,\n",
    "                green, blue, width)\n",
    "                draw_circle(x - new_radius, y, new_radius, red, green,\n",
    "                blue, width)\n",
    "                draw_circle(x, int(y + new_radius), new_radius, red,\n",
    "                green, blue, width)\n",
    "                draw_circle(x, int(y - new_radius), new_radius, red,\n",
    "                green, blue, width)\n",
    "            # Draw the original circle\n",
    "            turtle.goto(x, y)\n",
    "            turtle.color(colour)\n",
    "            turtle.width(width)\n",
    "            turtle.pendown()\n",
    "            turtle.circle(radius)\n",
    "            turtle.penup()\n"
   ]
  },
  {
   "cell_type": "code",
   "execution_count": 3,
   "id": "536d3c86-5a5d-466c-be2e-b5ecd58d21bf",
   "metadata": {},
   "outputs": [
    {
     "name": "stdout",
     "output_type": "stream",
     "text": [
      "Starting\n",
      "Done\n"
     ]
    }
   ],
   "source": [
    "print('Starting')\n",
    "setup_window()\n",
    "draw_circle(25, -100, 200) \n",
    "# Ensure that all the drawing is rendered\n",
    "turtle.update()\n",
    "print('Done')\n",
    "turtle.done()"
   ]
  },
  {
   "cell_type": "code",
   "execution_count": null,
   "id": "838e8b69-1435-456a-8366-f30b19185ce9",
   "metadata": {},
   "outputs": [],
   "source": []
  }
 ],
 "metadata": {
  "kernelspec": {
   "display_name": "Python 3 (ipykernel)",
   "language": "python",
   "name": "python3"
  },
  "language_info": {
   "codemirror_mode": {
    "name": "ipython",
    "version": 3
   },
   "file_extension": ".py",
   "mimetype": "text/x-python",
   "name": "python",
   "nbconvert_exporter": "python",
   "pygments_lexer": "ipython3",
   "version": "3.9.7"
  }
 },
 "nbformat": 4,
 "nbformat_minor": 5
}
