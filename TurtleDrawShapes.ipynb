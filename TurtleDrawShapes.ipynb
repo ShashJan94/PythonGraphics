{
 "cells": [
  {
   "cell_type": "code",
   "execution_count": 2,
   "id": "fd8eb7b7-d741-44bd-afe1-660d8bf403cd",
   "metadata": {},
   "outputs": [
    {
     "name": "stdout",
     "output_type": "stream",
     "text": [
      "Set up Screen\n"
     ]
    },
    {
     "name": "stdin",
     "output_type": "stream",
     "text": [
      "Please provide an angle: 30\n"
     ]
    },
    {
     "name": "stdout",
     "output_type": "stream",
     "text": [
      "Start the drawing\n"
     ]
    },
    {
     "ename": "Terminator",
     "evalue": "",
     "output_type": "error",
     "traceback": [
      "\u001b[1;31m---------------------------------------------------------------------------\u001b[0m",
      "\u001b[1;31mTerminator\u001b[0m                                Traceback (most recent call last)",
      "\u001b[1;32m~\\AppData\\Local\\Temp/ipykernel_239300/1781590025.py\u001b[0m in \u001b[0;36m<module>\u001b[1;34m\u001b[0m\n\u001b[0;32m     32\u001b[0m \u001b[1;32mfor\u001b[0m \u001b[0mi\u001b[0m  \u001b[1;32min\u001b[0m \u001b[0mrange\u001b[0m\u001b[1;33m(\u001b[0m\u001b[1;36m0\u001b[0m\u001b[1;33m,\u001b[0m\u001b[1;36m200\u001b[0m\u001b[1;33m)\u001b[0m\u001b[1;33m:\u001b[0m\u001b[1;33m\u001b[0m\u001b[1;33m\u001b[0m\u001b[0m\n\u001b[0;32m     33\u001b[0m     \u001b[0mturtle\u001b[0m\u001b[1;33m.\u001b[0m\u001b[0mcolor\u001b[0m\u001b[1;33m(\u001b[0m\u001b[0mgenerate_random_colour\u001b[0m\u001b[1;33m(\u001b[0m\u001b[1;33m)\u001b[0m\u001b[1;33m)\u001b[0m\u001b[1;33m\u001b[0m\u001b[1;33m\u001b[0m\u001b[0m\n\u001b[1;32m---> 34\u001b[1;33m     \u001b[0mturtle\u001b[0m\u001b[1;33m.\u001b[0m\u001b[0mforward\u001b[0m\u001b[1;33m(\u001b[0m\u001b[0mi\u001b[0m\u001b[1;33m)\u001b[0m\u001b[1;33m\u001b[0m\u001b[1;33m\u001b[0m\u001b[0m\n\u001b[0m\u001b[0;32m     35\u001b[0m     \u001b[0mturtle\u001b[0m\u001b[1;33m.\u001b[0m\u001b[0mright\u001b[0m\u001b[1;33m(\u001b[0m\u001b[0mangle\u001b[0m\u001b[1;33m)\u001b[0m\u001b[1;33m\u001b[0m\u001b[1;33m\u001b[0m\u001b[0m\n\u001b[0;32m     36\u001b[0m \u001b[1;33m\u001b[0m\u001b[0m\n",
      "\u001b[1;32mC:\\ProgramData\\Anaconda3\\lib\\turtle.py\u001b[0m in \u001b[0;36mforward\u001b[1;34m(distance)\u001b[0m\n",
      "\u001b[1;31mTerminator\u001b[0m: "
     ]
    }
   ],
   "source": [
    "import turtle\n",
    "from random  import randint\n",
    "\n",
    "def get_input_angle():\n",
    "    \"\"\" Obtain input from user and convert to an int\"\"\"\n",
    "    message  =  'Please provide an angle:'\n",
    "    value_as_string  =  input(message)\n",
    "    while not value_as_string.isnumeric(): \n",
    "        print('The input must be an integer!') \n",
    "        value_as_string  =  input(message)\n",
    "    return int(value_as_string)\n",
    "\n",
    "def generate_random_colour():\n",
    "    \"\"\"Generates an R,G,B values randomly in range\n",
    "    0 to 255 \"\"\"\n",
    "    r  =  randint(0,255)\n",
    "    g  =  randint(0,255)\n",
    "    b  =  randint(0,255)\n",
    "    return r,  g,  b\n",
    "\n",
    "print('Set up Screen') \n",
    "turtle.title('Colourful pattern') \n",
    "turtle.setup(640,600) \n",
    "turtle.hideturtle()\n",
    "turtle.bgcolor('black')     # Set the background colour of the screen\n",
    "turtle.colormode(255)     # Indicates RGB numbers will be in the range 0 to 255\n",
    "turtle.speed(10)\n",
    "\n",
    "angle  =  get_input_angle()\n",
    "\n",
    "print('Start the drawing')\n",
    "for i  in range(0,200): \n",
    "    turtle.color(generate_random_colour()) \n",
    "    turtle.forward(i)\n",
    "    turtle.right(angle)\n",
    "\n",
    "print('Done')\n",
    "turtle.done()\n"
   ]
  },
  {
   "cell_type": "code",
   "execution_count": null,
   "id": "eaa10d31-340e-4e7f-83b4-055e8fb0136c",
   "metadata": {},
   "outputs": [],
   "source": []
  },
  {
   "cell_type": "code",
   "execution_count": null,
   "id": "b34188a3-e27f-4d01-83a1-e8538421fe46",
   "metadata": {},
   "outputs": [],
   "source": []
  }
 ],
 "metadata": {
  "kernelspec": {
   "display_name": "Python 3 (ipykernel)",
   "language": "python",
   "name": "python3"
  },
  "language_info": {
   "codemirror_mode": {
    "name": "ipython",
    "version": 3
   },
   "file_extension": ".py",
   "mimetype": "text/x-python",
   "name": "python",
   "nbconvert_exporter": "python",
   "pygments_lexer": "ipython3",
   "version": "3.9.7"
  }
 },
 "nbformat": 4,
 "nbformat_minor": 5
}
